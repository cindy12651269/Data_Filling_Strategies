{
  "nbformat": 4,
  "nbformat_minor": 0,
  "metadata": {
    "colab": {
      "provenance": [],
      "authorship_tag": "ABX9TyNN7cnArfLywHyr9mheNXZO",
      "include_colab_link": true
    },
    "kernelspec": {
      "name": "python3",
      "display_name": "Python 3"
    },
    "language_info": {
      "name": "python"
    }
  },
  "cells": [
    {
      "cell_type": "markdown",
      "metadata": {
        "id": "view-in-github",
        "colab_type": "text"
      },
      "source": [
        "<a href=\"https://colab.research.google.com/github/cindy12651269/Data_Filling_Strategies/blob/cindy12651269%2Fhw1/Data_Filling_Strategies.ipynb\" target=\"_parent\"><img src=\"https://colab.research.google.com/assets/colab-badge.svg\" alt=\"Open In Colab\"/></a>"
      ]
    },
    {
      "cell_type": "code",
      "execution_count": 2,
      "metadata": {
        "colab": {
          "base_uri": "https://localhost:8080/"
        },
        "id": "XSxf6bunp2oK",
        "outputId": "04e6716b-afe1-45c2-d259-3e98f71da4e8"
      },
      "outputs": [
        {
          "output_type": "stream",
          "name": "stdout",
          "text": [
            "Drop missing observations:\n",
            "  first_name last_name   age sex  preTestScore  postTestScore\n",
            "0      Jason    Miller  42.0   m           4.0           25.0\n",
            "3       Jake    Milner  24.0   m           2.0           62.0\n",
            "4        Amy     Cooze  73.0   f           3.0           70.0\n",
            "\n",
            "Drop rows where all cells in that row is NA:\n",
            "  first_name last_name   age sex  preTestScore  postTestScore\n",
            "0      Jason    Miller  42.0   m           4.0           25.0\n",
            "2       Tina       Ali  36.0   f           NaN            NaN\n",
            "3       Jake    Milner  24.0   m           2.0           62.0\n",
            "4        Amy     Cooze  73.0   f           3.0           70.0\n",
            "\n",
            "Create a new column full of missing values:\n",
            "  first_name last_name   age  sex  preTestScore  postTestScore  new_column\n",
            "0      Jason    Miller  42.0    m           4.0           25.0         NaN\n",
            "1        NaN       NaN   NaN  NaN           NaN            NaN         NaN\n",
            "2       Tina       Ali  36.0    f           NaN            NaN         NaN\n",
            "3       Jake    Milner  24.0    m           2.0           62.0         NaN\n",
            "4        Amy     Cooze  73.0    f           3.0           70.0         NaN\n",
            "\n",
            "Fill in missing data with zeros:\n",
            "  first_name last_name   age sex  preTestScore  postTestScore  new_column\n",
            "0      Jason    Miller  42.0   m           4.0           25.0         0.0\n",
            "1          0         0   0.0   0           0.0            0.0         0.0\n",
            "2       Tina       Ali  36.0   f           0.0            0.0         0.0\n",
            "3       Jake    Milner  24.0   m           2.0           62.0         0.0\n",
            "4        Amy     Cooze  73.0   f           3.0           70.0         0.0\n",
            "\n",
            "Fill in missing in preTestScore with the mean value of preTestScore:\n",
            "  first_name last_name   age  sex  preTestScore  postTestScore  new_column\n",
            "0      Jason    Miller  42.0    m           4.0           25.0         NaN\n",
            "1        NaN       NaN   NaN  NaN           3.0            NaN         NaN\n",
            "2       Tina       Ali  36.0    f           3.0            NaN         NaN\n",
            "3       Jake    Milner  24.0    m           2.0           62.0         NaN\n",
            "4        Amy     Cooze  73.0    f           3.0           70.0         NaN\n",
            "\n",
            "Fill in missing in postTestScore with each sex’s mean value of postTestScore:\n",
            "  first_name last_name   age  sex  preTestScore  postTestScore  new_column\n",
            "0      Jason    Miller  42.0    m           4.0           25.0         NaN\n",
            "1        NaN       NaN   NaN  NaN           3.0            NaN         NaN\n",
            "2       Tina       Ali  36.0    f           3.0           70.0         NaN\n",
            "3       Jake    Milner  24.0    m           2.0           62.0         NaN\n",
            "4        Amy     Cooze  73.0    f           3.0           70.0         NaN\n",
            "\n",
            "Select some rows but ignore the missing data points:\n",
            "  first_name last_name   age\n",
            "0      Jason    Miller  42.0\n",
            "1        NaN       NaN   NaN\n",
            "2       Tina       Ali  36.0\n"
          ]
        }
      ],
      "source": [
        "import numpy as np\n",
        "import pandas as pd\n",
        "\n",
        "raw_data = {'first_name': ['Jason', np.nan, 'Tina', 'Jake', 'Amy'],\n",
        "            'last_name': ['Miller', np.nan, 'Ali', 'Milner', 'Cooze'],\n",
        "            'age': [42, np.nan, 36, 24, 73],\n",
        "            'sex': ['m', np.nan, 'f', 'm', 'f'],\n",
        "            'preTestScore': [4, np.nan, np.nan, 2, 3],\n",
        "            'postTestScore': [25, np.nan, np.nan, 62, 70]}\n",
        "\n",
        "df = pd.DataFrame(raw_data, columns=['first_name', 'last_name', 'age', 'sex', 'preTestScore', 'postTestScore'])\n",
        "\n",
        "# 1. Drop missing observations\n",
        "df_drop_na = df.dropna()\n",
        "print(\"Drop missing observations:\")\n",
        "print(df_drop_na)\n",
        "\n",
        "# 2. Drop rows where all cells in that row is NA\n",
        "df_drop_all_na = df.dropna(how=\"all\")\n",
        "print(\"\\nDrop rows where all cells in that row is NA:\")\n",
        "print(df_drop_all_na)\n",
        "\n",
        "# 3. Create a new column full of missing values\n",
        "df['new_column'] = np.nan\n",
        "print(\"\\nCreate a new column full of missing values:\")\n",
        "print(df)\n",
        "\n",
        "# 4. Fill in missing data with zeros\n",
        "df_fill_zero = df.fillna(0)\n",
        "print(\"\\nFill in missing data with zeros:\")\n",
        "print(df_fill_zero)\n",
        "\n",
        "# 5. Fill in missing in preTestScore with the mean value of preTestScore\n",
        "preTestScore_Mean = df['preTestScore'].mean()\n",
        "df['preTestScore'].fillna(preTestScore_Mean, inplace= True)\n",
        "print(\"\\nFill in missing in preTestScore with the mean value of preTestScore:\")\n",
        "print(df)\n",
        "\n",
        "# 6. Fill in missing in postTestScore with each sex’s mean value of postTestScore\n",
        "df['postTestScore']= df.groupby('sex')['postTestScore'].transform(lambda x: x.fillna(x.mean()))\n",
        "print(\"\\nFill in missing in postTestScore with each sex’s mean value of postTestScore:\")\n",
        "print(df)\n",
        "\n",
        "# 7. Select some rows but ignore the missing data points\n",
        "selected_rows = df.loc[0:2, ['first_name', 'last_name', 'age']]\n",
        "print(\"\\nSelect some rows but ignore the missing data points:\")\n",
        "print(selected_rows)\n"
      ]
    }
  ]
}